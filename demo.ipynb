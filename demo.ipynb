{
 "cells": [
  {
   "cell_type": "code",
   "execution_count": 1,
   "metadata": {},
   "outputs": [
    {
     "name": "stderr",
     "output_type": "stream",
     "text": [
      "/Users/visenze/anaconda2/lib/python2.7/site-packages/h5py/__init__.py:36: FutureWarning: Conversion of the second argument of issubdtype from `float` to `np.floating` is deprecated. In future, it will be treated as `np.float64 == np.dtype(float).type`.\n",
      "  from ._conv import register_converters as _register_converters\n",
      "Using TensorFlow backend.\n"
     ]
    }
   ],
   "source": [
    "import os\n",
    "import sys\n",
    "\n",
    "import keras\n",
    "\n",
    "from keras_pipeline.models import InceptionV3\n",
    "from keras_pipeline.models import RetinaNet, RetinaNetConfig\n"
   ]
  },
  {
   "cell_type": "code",
   "execution_count": 2,
   "metadata": {},
   "outputs": [
    {
     "data": {
      "text/plain": [
       "[(None, 300, 4), (None, 300), (None, 300)]"
      ]
     },
     "execution_count": 2,
     "metadata": {},
     "output_type": "execute_result"
    }
   ],
   "source": [
    "model_config = RetinaNetConfig(num_classes = 7)\n",
    "model = RetinaNet(model_config)\n",
    "model.output_shape"
   ]
  },
  {
   "cell_type": "code",
   "execution_count": 3,
   "metadata": {},
   "outputs": [
    {
     "name": "stdout",
     "output_type": "stream",
     "text": [
      "P3 (None, 97, 97, 256)\n",
      "P4 (None, 48, 48, 256)\n",
      "P5 (None, 23, 23, 256)\n",
      "P6 (None, 12, 12, 256)\n",
      "P7 (None, 6, 6, 256)\n",
      "boxes (None, 111798, 4)\n"
     ]
    }
   ],
   "source": [
    "print(model.get_layer('P3').name, model.get_layer('P3').output_shape)\n",
    "print(model.get_layer('P4').name, model.get_layer('P4').output_shape)\n",
    "print(model.get_layer('P5').name, model.get_layer('P5').output_shape)\n",
    "print(model.get_layer('P6').name, model.get_layer('P6').output_shape)\n",
    "print(model.get_layer('P7').name, model.get_layer('P7').output_shape)\n",
    "print(model.layers[-1].name, model.layers[-1].output_shape)"
   ]
  },
  {
   "cell_type": "code",
   "execution_count": 5,
   "metadata": {},
   "outputs": [
    {
     "name": "stdout",
     "output_type": "stream",
     "text": [
      "1312\n",
      "1296\n",
      "1280\n",
      "1280\n",
      "1280\n"
     ]
    }
   ],
   "source": [
    "print(model.get_layer('P3').output_shape[1] *   8)\n",
    "print(model.get_layer('P4').output_shape[1] *  16)\n",
    "print(model.get_layer('P5').output_shape[1] *  32)\n",
    "print(model.get_layer('P6').output_shape[1] *  64)\n",
    "print(model.get_layer('P7').output_shape[1] * 128)\n"
   ]
  },
  {
   "cell_type": "code",
   "execution_count": 2,
   "metadata": {},
   "outputs": [],
   "source": [
    "x = np.zeros((1, 800, 1333, 3))\n",
    "y = model.predict(x)\n"
   ]
  },
  {
   "cell_type": "code",
   "execution_count": 2,
   "metadata": {},
   "outputs": [
    {
     "data": {
      "text/plain": [
       "{'backbone_name': 'inception_v3',\n",
       " 'classification_feature_size': 256,\n",
       " 'freeze_backbone': False,\n",
       " 'input_shape': None,\n",
       " 'input_tensor': None,\n",
       " 'name': 'retinanet',\n",
       " 'num_classes': 7,\n",
       " 'pyramid_feature_size': 256,\n",
       " 'regression_feature_size': 256}"
      ]
     },
     "execution_count": 2,
     "metadata": {},
     "output_type": "execute_result"
    }
   ],
   "source": [
    "model_config = RetinaNetConfig(num_classes = 7)\n",
    "model_config.to_dict()"
   ]
  },
  {
   "cell_type": "code",
   "execution_count": 14,
   "metadata": {},
   "outputs": [
    {
     "data": {
      "text/plain": [
       "['s', 't', 'r', 'i', 'n', 'g']"
      ]
     },
     "execution_count": 14,
     "metadata": {},
     "output_type": "execute_result"
    }
   ],
   "source": [
    "list(iter('string'))"
   ]
  },
  {
   "cell_type": "code",
   "execution_count": null,
   "metadata": {},
   "outputs": [],
   "source": []
  }
 ],
 "metadata": {
  "kernelspec": {
   "display_name": "Python 2",
   "language": "python",
   "name": "python2"
  },
  "language_info": {
   "codemirror_mode": {
    "name": "ipython",
    "version": 2
   },
   "file_extension": ".py",
   "mimetype": "text/x-python",
   "name": "python",
   "nbconvert_exporter": "python",
   "pygments_lexer": "ipython2",
   "version": "2.7.14"
  }
 },
 "nbformat": 4,
 "nbformat_minor": 2
}
