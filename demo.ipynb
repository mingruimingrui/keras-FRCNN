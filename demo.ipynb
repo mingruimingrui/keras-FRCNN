{
 "cells": [
  {
   "cell_type": "code",
   "execution_count": 1,
   "metadata": {},
   "outputs": [
    {
     "name": "stderr",
     "output_type": "stream",
     "text": [
      "C:\\ProgramData\\Anaconda3\\lib\\site-packages\\h5py\\__init__.py:36: FutureWarning: Conversion of the second argument of issubdtype from `float` to `np.floating` is deprecated. In future, it will be treated as `np.float64 == np.dtype(float).type`.\n",
      "  from ._conv import register_converters as _register_converters\n",
      "Using TensorFlow backend.\n"
     ]
    }
   ],
   "source": [
    "import os\n",
    "import sys\n",
    "from PIL import Image\n",
    "\n",
    "import numpy as np\n",
    "\n",
    "import keras\n",
    "\n",
    "from keras_frcnn import models\n"
   ]
  },
  {
   "cell_type": "code",
   "execution_count": 2,
   "metadata": {},
   "outputs": [
    {
     "data": {
      "text/plain": [
       "[(None, 300, 4), (None, 300), (None, 300)]"
      ]
     },
     "execution_count": 2,
     "metadata": {},
     "output_type": "execute_result"
    }
   ],
   "source": [
    "model_config = models.load_model_config_template()\n",
    "model_config.num_classes = 7\n",
    "model_config.input_shape = (800, 800, 3)\n",
    "\n",
    "model = models.FRCNN(model_config)\n",
    "model.output_shape"
   ]
  },
  {
   "cell_type": "code",
   "execution_count": 3,
   "metadata": {},
   "outputs": [
    {
     "name": "stdout",
     "output_type": "stream",
     "text": [
      "P3 (None, 97, 97, 256)\n",
      "P4 (None, 48, 48, 256)\n",
      "P5 (None, 23, 23, 256)\n",
      "P6 (None, 12, 12, 256)\n",
      "P7 (None, 6, 6, 256)\n",
      "boxes (None, 111798, 4)\n"
     ]
    }
   ],
   "source": [
    "print(model.get_layer('P3').name, model.get_layer('P3').output_shape)\n",
    "print(model.get_layer('P4').name, model.get_layer('P4').output_shape)\n",
    "print(model.get_layer('P5').name, model.get_layer('P5').output_shape)\n",
    "print(model.get_layer('P6').name, model.get_layer('P6').output_shape)\n",
    "print(model.get_layer('P7').name, model.get_layer('P7').output_shape)\n",
    "print(model.layers[-1].name, model.layers[-1].output_shape)"
   ]
  },
  {
   "cell_type": "code",
   "execution_count": 5,
   "metadata": {},
   "outputs": [
    {
     "name": "stdout",
     "output_type": "stream",
     "text": [
      "1312\n",
      "1296\n",
      "1280\n",
      "1280\n",
      "1280\n"
     ]
    }
   ],
   "source": [
    "print(model.get_layer('P3').output_shape[1] *   8)\n",
    "print(model.get_layer('P4').output_shape[1] *  16)\n",
    "print(model.get_layer('P5').output_shape[1] *  32)\n",
    "print(model.get_layer('P6').output_shape[1] *  64)\n",
    "print(model.get_layer('P7').output_shape[1] * 128)\n"
   ]
  },
  {
   "cell_type": "code",
   "execution_count": 2,
   "metadata": {},
   "outputs": [],
   "source": [
    "x = np.zeros((1, 800, 1333, 3))\n",
    "y = model.predict(x)\n"
   ]
  },
  {
   "cell_type": "code",
   "execution_count": 5,
   "metadata": {},
   "outputs": [
    {
     "name": "stdout",
     "output_type": "stream",
     "text": [
      "(1, 189144, 4)\n",
      "(1, 189144, 7)\n",
      "(1, 189144, 4)\n"
     ]
    }
   ],
   "source": [
    "for temp in y:\n",
    "    print(temp.shape)\n",
    "\n"
   ]
  },
  {
   "cell_type": "code",
   "execution_count": 13,
   "metadata": {},
   "outputs": [
    {
     "data": {
      "text/plain": [
       "<tf.Tensor 'input_5:0' shape=(?, ?, ?, 3) dtype=float32>"
      ]
     },
     "execution_count": 13,
     "metadata": {},
     "output_type": "execute_result"
    }
   ],
   "source": [
    "import keras"
   ]
  },
  {
   "cell_type": "code",
   "execution_count": 22,
   "metadata": {},
   "outputs": [
    {
     "data": {
      "text/plain": [
       "3"
      ]
     },
     "execution_count": 22,
     "metadata": {},
     "output_type": "execute_result"
    }
   ],
   "source": [
    "temp = keras.Input(shape=(None,3))\n",
    "len(temp.shape)"
   ]
  },
  {
   "cell_type": "code",
   "execution_count": 11,
   "metadata": {},
   "outputs": [
    {
     "data": {
      "text/plain": [
       "[0, 1, 2, 3, 4, 5, 6]"
      ]
     },
     "execution_count": 11,
     "metadata": {},
     "output_type": "execute_result"
    }
   ],
   "source": [
    "list(range(temp.shape[2]))"
   ]
  },
  {
   "cell_type": "code",
   "execution_count": 7,
   "metadata": {},
   "outputs": [],
   "source": [
    "import keras\n",
    "temp = keras.Input(shape=(3, 7))\n"
   ]
  },
  {
   "cell_type": "code",
   "execution_count": null,
   "metadata": {},
   "outputs": [],
   "source": []
  }
 ],
 "metadata": {
  "kernelspec": {
   "display_name": "Python 3",
   "language": "python",
   "name": "python3"
  },
  "language_info": {
   "codemirror_mode": {
    "name": "ipython",
    "version": 3
   },
   "file_extension": ".py",
   "mimetype": "text/x-python",
   "name": "python",
   "nbconvert_exporter": "python",
   "pygments_lexer": "ipython3",
   "version": "3.6.4"
  }
 },
 "nbformat": 4,
 "nbformat_minor": 2
}
