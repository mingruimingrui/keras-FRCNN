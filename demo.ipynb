{
 "cells": [
  {
   "cell_type": "code",
   "execution_count": 1,
   "metadata": {},
   "outputs": [
    {
     "name": "stderr",
     "output_type": "stream",
     "text": [
      "C:\\ProgramData\\Anaconda3\\lib\\site-packages\\h5py\\__init__.py:36: FutureWarning: Conversion of the second argument of issubdtype from `float` to `np.floating` is deprecated. In future, it will be treated as `np.float64 == np.dtype(float).type`.\n",
      "  from ._conv import register_converters as _register_converters\n",
      "Using TensorFlow backend.\n"
     ]
    }
   ],
   "source": [
    "import os\n",
    "import sys\n",
    "import numpy as np\n",
    "from time import time\n",
    "\n",
    "import keras\n",
    "import tensorflow as tf\n",
    "\n",
    "# Utilize CPU\n",
    "# num_cores = 4\n",
    "# config = tf.ConfigProto(intra_op_parallelism_threads=num_cores,\\\n",
    "#         inter_op_parallelism_threads=num_cores, allow_soft_placement=True,\\\n",
    "#         device_count = {'CPU' : 1, 'GPU' : 0})\n",
    "# session = tf.Session(config=config)\n",
    "# keras.backend.set_session(session)\n",
    "\n",
    "from keras_pipeline.models import InceptionV3\n",
    "from keras_pipeline.models import RetinaNet, RetinaNetConfig\n"
   ]
  },
  {
   "cell_type": "code",
   "execution_count": 2,
   "metadata": {},
   "outputs": [
    {
     "data": {
      "text/plain": [
       "[(None, 300, 4), (None, 300), (None, 300)]"
      ]
     },
     "execution_count": 2,
     "metadata": {},
     "output_type": "execute_result"
    }
   ],
   "source": [
    "model_config = RetinaNetConfig(num_classes = 7, input_shape=(1333, 1333, 3))\n",
    "model = RetinaNet(model_config)\n",
    "model.output_shape"
   ]
  },
  {
   "cell_type": "code",
   "execution_count": 4,
   "metadata": {},
   "outputs": [
    {
     "name": "stdout",
     "output_type": "stream",
     "text": [
      "29.34926152229309\n"
     ]
    }
   ],
   "source": [
    "x = np.zeros((2,) + model.input_shape[1:])\n",
    "\n",
    "t = time()\n",
    "model.predict(x)\n",
    "print(time() - t)\n"
   ]
  },
  {
   "cell_type": "code",
   "execution_count": 3,
   "metadata": {},
   "outputs": [
    {
     "name": "stdout",
     "output_type": "stream",
     "text": [
      "4.788113117218018\n"
     ]
    },
    {
     "data": {
      "text/plain": [
       "(1, 320013, 4)"
      ]
     },
     "execution_count": 3,
     "metadata": {},
     "output_type": "execute_result"
    }
   ],
   "source": [
    "\"\"\"Get Model Anchor based on input_shape\"\"\"\n",
    "\n",
    "def get_model_anchors():\n",
    "    x = np.zeros((1,) + model.input_shape[1:])\n",
    "    \n",
    "    anchor_model = keras.models.Model(\n",
    "        inputs  = model.input,\n",
    "        outputs = model.get_layer('anchors').output\n",
    "    )\n",
    "    \n",
    "    return anchor_model.predict(x)\n",
    "\n",
    "from time import time\n",
    "t = time()\n",
    "model_anchors = get_model_anchors()\n",
    "print(time() - t)\n",
    "model_anchors.shape"
   ]
  },
  {
   "cell_type": "code",
   "execution_count": 11,
   "metadata": {},
   "outputs": [
    {
     "data": {
      "text/plain": [
       "(111798, 4)"
      ]
     },
     "execution_count": 11,
     "metadata": {},
     "output_type": "execute_result"
    }
   ],
   "source": [
    "from keras_pipeline.utils import anchors\n",
    "\n",
    "gen_anchors = anchors.compute_all_anchors((800, 800, 3), shapes_callback = model_config.compute_pyramid_feautre_shapes_for_img_shape)\n",
    "gen_anchors.shape"
   ]
  },
  {
   "cell_type": "code",
   "execution_count": 11,
   "metadata": {},
   "outputs": [
    {
     "data": {
      "text/plain": [
       "2.939809117011683e-07"
      ]
     },
     "execution_count": 11,
     "metadata": {},
     "output_type": "execute_result"
    }
   ],
   "source": []
  },
  {
   "cell_type": "code",
   "execution_count": 10,
   "metadata": {},
   "outputs": [
    {
     "data": {
      "text/plain": [
       "array([[ -18.627417  ,   -7.3137085 ,   26.627417  ,   15.3137085 ],\n",
       "       [ -24.50875898,  -10.25437949,   32.50875898,   18.25437949],\n",
       "       [ -31.91878555,  -13.95939277,   39.91878555,   21.95939277],\n",
       "       ...,\n",
       "       [ 522.98066402,  341.96132803,  885.01933598, 1066.03867197],\n",
       "       [ 475.92992816,  247.85985631,  932.07007184, 1160.14014369],\n",
       "       [ 416.64971563,  129.29943127,  991.35028437, 1278.70056873]])"
      ]
     },
     "execution_count": 10,
     "metadata": {},
     "output_type": "execute_result"
    }
   ],
   "source": [
    "model_config.compute_anchors((800, 800))"
   ]
  },
  {
   "cell_type": "code",
   "execution_count": 22,
   "metadata": {},
   "outputs": [
    {
     "ename": "AttributeError",
     "evalue": "The layer \"classification_submodel has multiple inbound nodes, with different output shapes. Hence the notion of \"output shape\" is ill-defined for the layer. Use `get_output_shape_at(node_index)` instead.",
     "output_type": "error",
     "traceback": [
      "\u001b[1;31m---------------------------------------------------------------------------\u001b[0m",
      "\u001b[1;31mAttributeError\u001b[0m                            Traceback (most recent call last)",
      "\u001b[1;32m<ipython-input-22-9d211e0bac37>\u001b[0m in \u001b[0;36m<module>\u001b[1;34m()\u001b[0m\n\u001b[0;32m      1\u001b[0m \u001b[0mi\u001b[0m \u001b[1;33m=\u001b[0m \u001b[1;33m-\u001b[0m\u001b[1;36m4\u001b[0m\u001b[1;33m\u001b[0m\u001b[0m\n\u001b[1;32m----> 2\u001b[1;33m \u001b[0mmodel\u001b[0m\u001b[1;33m.\u001b[0m\u001b[0mlayers\u001b[0m\u001b[1;33m[\u001b[0m\u001b[0mi\u001b[0m\u001b[1;33m]\u001b[0m\u001b[1;33m.\u001b[0m\u001b[0mname\u001b[0m\u001b[1;33m,\u001b[0m \u001b[0mmodel\u001b[0m\u001b[1;33m.\u001b[0m\u001b[0mlayers\u001b[0m\u001b[1;33m[\u001b[0m\u001b[0mi\u001b[0m\u001b[1;33m]\u001b[0m\u001b[1;33m.\u001b[0m\u001b[0moutput_shape\u001b[0m\u001b[1;33m\u001b[0m\u001b[0m\n\u001b[0m",
      "\u001b[1;32mC:\\ProgramData\\Anaconda3\\lib\\site-packages\\keras\\engine\\topology.py\u001b[0m in \u001b[0;36moutput_shape\u001b[1;34m(self)\u001b[0m\n\u001b[0;32m   1087\u001b[0m         \u001b[1;32melse\u001b[0m\u001b[1;33m:\u001b[0m\u001b[1;33m\u001b[0m\u001b[0m\n\u001b[0;32m   1088\u001b[0m             raise AttributeError('The layer \"' + str(self.name) +\n\u001b[1;32m-> 1089\u001b[1;33m                                  \u001b[1;34m' has multiple inbound nodes, '\u001b[0m\u001b[1;33m\u001b[0m\u001b[0m\n\u001b[0m\u001b[0;32m   1090\u001b[0m                                  \u001b[1;34m'with different output shapes. Hence '\u001b[0m\u001b[1;33m\u001b[0m\u001b[0m\n\u001b[0;32m   1091\u001b[0m                                  \u001b[1;34m'the notion of \"output shape\" is '\u001b[0m\u001b[1;33m\u001b[0m\u001b[0m\n",
      "\u001b[1;31mAttributeError\u001b[0m: The layer \"classification_submodel has multiple inbound nodes, with different output shapes. Hence the notion of \"output shape\" is ill-defined for the layer. Use `get_output_shape_at(node_index)` instead."
     ]
    }
   ],
   "source": [
    "i = -4\n",
    "model.layers[i].name, model.layers[i].output_shape"
   ]
  },
  {
   "cell_type": "code",
   "execution_count": null,
   "metadata": {},
   "outputs": [],
   "source": []
  }
 ],
 "metadata": {
  "kernelspec": {
   "display_name": "Python 3",
   "language": "python",
   "name": "python3"
  },
  "language_info": {
   "codemirror_mode": {
    "name": "ipython",
    "version": 3
   },
   "file_extension": ".py",
   "mimetype": "text/x-python",
   "name": "python",
   "nbconvert_exporter": "python",
   "pygments_lexer": "ipython3",
   "version": "3.6.4"
  }
 },
 "nbformat": 4,
 "nbformat_minor": 2
}
