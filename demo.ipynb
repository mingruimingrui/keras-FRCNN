{
 "cells": [
  {
   "cell_type": "code",
   "execution_count": 1,
   "metadata": {},
   "outputs": [
    {
     "name": "stderr",
     "output_type": "stream",
     "text": [
      "/Users/visenze/anaconda2/lib/python2.7/site-packages/h5py/__init__.py:36: FutureWarning: Conversion of the second argument of issubdtype from `float` to `np.floating` is deprecated. In future, it will be treated as `np.float64 == np.dtype(float).type`.\n",
      "  from ._conv import register_converters as _register_converters\n",
      "Using TensorFlow backend.\n"
     ]
    }
   ],
   "source": [
    "import os\n",
    "import sys\n",
    "\n",
    "import keras\n",
    "\n",
    "from keras_pipeline.models import InceptionV3\n",
    "from keras_pipeline.models import RetinaNet, RetinaNetConfig\n"
   ]
  },
  {
   "cell_type": "code",
   "execution_count": 2,
   "metadata": {},
   "outputs": [
    {
     "data": {
      "text/plain": [
       "[(None, 300, 4), (None, 300), (None, 300)]"
      ]
     },
     "execution_count": 2,
     "metadata": {},
     "output_type": "execute_result"
    }
   ],
   "source": [
    "model_config = RetinaNetConfig(num_classes = 7, input_shape=(800, 800, 3))\n",
    "model = RetinaNet(model_config)\n",
    "model.output_shape"
   ]
  },
  {
   "cell_type": "code",
   "execution_count": 3,
   "metadata": {},
   "outputs": [
    {
     "name": "stdout",
     "output_type": "stream",
     "text": [
      "P3 (None, 97, 97, 256)\n",
      "P4 (None, 48, 48, 256)\n",
      "P5 (None, 23, 23, 256)\n",
      "P6 (None, 12, 12, 256)\n",
      "P7 (None, 6, 6, 256)\n",
      "boxes (None, 111798, 4)\n"
     ]
    }
   ],
   "source": [
    "print(model.get_layer('P3').name, model.get_layer('P3').output_shape)\n",
    "print(model.get_layer('P4').name, model.get_layer('P4').output_shape)\n",
    "print(model.get_layer('P5').name, model.get_layer('P5').output_shape)\n",
    "print(model.get_layer('P6').name, model.get_layer('P6').output_shape)\n",
    "print(model.get_layer('P7').name, model.get_layer('P7').output_shape)\n",
    "print(model.layers[-1].name, model.layers[-1].output_shape)"
   ]
  },
  {
   "cell_type": "code",
   "execution_count": 5,
   "metadata": {},
   "outputs": [
    {
     "name": "stdout",
     "output_type": "stream",
     "text": [
      "1312\n",
      "1296\n",
      "1280\n",
      "1280\n",
      "1280\n"
     ]
    }
   ],
   "source": [
    "print(model.get_layer('P3').output_shape[1] *   8)\n",
    "print(model.get_layer('P4').output_shape[1] *  16)\n",
    "print(model.get_layer('P5').output_shape[1] *  32)\n",
    "print(model.get_layer('P6').output_shape[1] *  64)\n",
    "print(model.get_layer('P7').output_shape[1] * 128)\n"
   ]
  },
  {
   "cell_type": "code",
   "execution_count": 2,
   "metadata": {},
   "outputs": [],
   "source": [
    "[l for l in model.]"
   ]
  },
  {
   "cell_type": "code",
   "execution_count": 2,
   "metadata": {},
   "outputs": [
    {
     "data": {
      "text/plain": [
       "{'backbone_name': 'inception_v3',\n",
       " 'classification_feature_size': 256,\n",
       " 'freeze_backbone': False,\n",
       " 'input_shape': None,\n",
       " 'input_tensor': None,\n",
       " 'name': 'retinanet',\n",
       " 'num_classes': 7,\n",
       " 'pyramid_feature_size': 256,\n",
       " 'regression_feature_size': 256}"
      ]
     },
     "execution_count": 2,
     "metadata": {},
     "output_type": "execute_result"
    }
   ],
   "source": [
    "from keras_pipeline.models import RetinaNet, RetinaNetConfig\n",
    "\n",
    "model_config = RetinaNetConfig(num_classes = 7)\n",
    "model_config.to_dict()\n"
   ]
  },
  {
   "cell_type": "code",
   "execution_count": 2,
   "metadata": {},
   "outputs": [
    {
     "name": "stdout",
     "output_type": "stream",
     "text": [
      "*** RetinaNetConfig Parameter Guide ***\n",
      "Here are a list of parameters and requirements\n",
      "\n",
      "\n",
      "    Parameter name - freeze_backbone\n",
      "    Description    - Freezes the backbone weights during training\n",
      "    Default        - False\n",
      "    Accepted types - <type 'bool'>\n",
      "\n",
      "\n",
      "    Parameter name - name\n",
      "    Description    - Name of your model\n",
      "    Default        - retinanet\n",
      "\n",
      "\n",
      "    Parameter name - classification_feature_size\n",
      "    Description    - Number of features used in classification layers\n",
      "    Default        - 256\n",
      "    Accepted types - int-like\n",
      "    Condition      -\n",
      "            condition = lambda x: x > 0\n",
      "\n",
      "\n",
      "    Parameter name - regression_feature_size\n",
      "    Description    - Number of features used in anchor regression layers\n",
      "    Default        - 256\n",
      "    Accepted types - int-like\n",
      "    Condition      -\n",
      "            condition = lambda x: x > 0\n",
      "\n",
      "\n",
      "    Parameter name - input_shape\n",
      "    Description    - Shape of your input\n",
      "    Default        - None\n",
      "    Accepted types - list-like\n",
      "    Condition      -\n",
      "            condition = lambda x: len(x) == 3\n",
      "\n",
      "\n",
      "    Parameter name - backbone_name\n",
      "    Description    - Loads a backbone based on a name\n",
      "    Default        - inception_v3\n",
      "    Valid options  - ['inception_v3']\n",
      "\n",
      "\n",
      "    Parameter name - pyramid_feature_size\n",
      "    Description    - Number of features at the pyramid level\n",
      "    Default        - 256\n",
      "    Accepted types - int-like\n",
      "    Condition      -\n",
      "            condition = lambda x: x > 0\n",
      "\n",
      "\n",
      "    Parameter name - input_tensor\n",
      "    Description    - Tensor as an input\n",
      "    Default        - None\n",
      "    Condition      -\n",
      "        def is_input_tensor_valid(input_tensor):\n",
      "            valid_type = type(input_tensor) == type(keras.Input(shape=(1, 1)))\n",
      "            valid_len  = len(input_tensor) == 3\n",
      "\n",
      "            return valid_type & valid_len\n",
      "\n",
      "\n",
      "    Parameter name - num_classes (required)\n",
      "    Description    - Number of classes\n",
      "    Default        - None\n",
      "    Condition      -\n",
      "            condition = lambda x: x > 0,\n",
      "\n",
      "\n",
      "*** End of Parameter Guide ***\n"
     ]
    }
   ],
   "source": [
    "model_config.help()"
   ]
  },
  {
   "cell_type": "code",
   "execution_count": 5,
   "metadata": {},
   "outputs": [
    {
     "data": {
      "text/plain": [
       "{'backbone_name': {'accepted_types': None,\n",
       "  'condition': None,\n",
       "  'default': 'inception_v3',\n",
       "  'desc': 'Loads a backbone based on a name',\n",
       "  'required': None,\n",
       "  'valid_options': ['inception_v3']},\n",
       " 'classification_feature_size': {'accepted_types': 'int-like',\n",
       "  'condition': <function keras_pipeline.models._config.<lambda>>,\n",
       "  'default': 256,\n",
       "  'desc': 'Number of features used in classification layers',\n",
       "  'required': None,\n",
       "  'valid_options': None},\n",
       " 'freeze_backbone': {'accepted_types': bool,\n",
       "  'condition': None,\n",
       "  'default': False,\n",
       "  'desc': 'Freezes the backbone weights during training',\n",
       "  'required': None,\n",
       "  'valid_options': None},\n",
       " 'input_shape': {'accepted_types': 'list-like',\n",
       "  'condition': <function keras_pipeline.models._config.<lambda>>,\n",
       "  'default': None,\n",
       "  'desc': 'Shape of your input',\n",
       "  'required': None,\n",
       "  'valid_options': None},\n",
       " 'input_tensor': {'accepted_types': None,\n",
       "  'condition': <function keras_pipeline.models._config.is_input_tensor_valid>,\n",
       "  'default': None,\n",
       "  'desc': 'Tensor as an input',\n",
       "  'required': None,\n",
       "  'valid_options': None},\n",
       " 'name': {'accepted_types': None,\n",
       "  'condition': None,\n",
       "  'default': 'retinanet',\n",
       "  'desc': 'Name of your model',\n",
       "  'required': None,\n",
       "  'valid_options': None},\n",
       " 'num_classes': {'accepted_types': None,\n",
       "  'condition': <function keras_pipeline.models._config.<lambda>>,\n",
       "  'default': None,\n",
       "  'desc': 'Number of classes',\n",
       "  'required': True,\n",
       "  'valid_options': None},\n",
       " 'pyramid_feature_size': {'accepted_types': 'int-like',\n",
       "  'condition': <function keras_pipeline.models._config.<lambda>>,\n",
       "  'default': 256,\n",
       "  'desc': 'Number of features at the pyramid level',\n",
       "  'required': None,\n",
       "  'valid_options': None},\n",
       " 'regression_feature_size': {'accepted_types': 'int-like',\n",
       "  'condition': <function keras_pipeline.models._config.<lambda>>,\n",
       "  'default': 256,\n",
       "  'desc': 'Number of features used in anchor regression layers',\n",
       "  'required': None,\n",
       "  'valid_options': None}}"
      ]
     },
     "execution_count": 5,
     "metadata": {},
     "output_type": "execute_result"
    }
   ],
   "source": [
    "model_config.__params__"
   ]
  },
  {
   "cell_type": "code",
   "execution_count": null,
   "metadata": {},
   "outputs": [],
   "source": []
  }
 ],
 "metadata": {
  "kernelspec": {
   "display_name": "Python 2",
   "language": "python",
   "name": "python2"
  },
  "language_info": {
   "codemirror_mode": {
    "name": "ipython",
    "version": 2
   },
   "file_extension": ".py",
   "mimetype": "text/x-python",
   "name": "python",
   "nbconvert_exporter": "python",
   "pygments_lexer": "ipython2",
   "version": "2.7.14"
  }
 },
 "nbformat": 4,
 "nbformat_minor": 2
}
